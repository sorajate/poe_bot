{
 "cells": [
  {
   "cell_type": "code",
   "execution_count": 1,
   "metadata": {},
   "outputs": [],
   "source": [
    "import time\n",
    "import random\n",
    "import sys\n",
    "from ast import literal_eval\n",
    "\n",
    "from utils.gamehelper import Poe2Bot, Entity\n",
    "from utils.combat import AutoFlasks"
   ]
  },
  {
   "cell_type": "code",
   "execution_count": 2,
   "metadata": {},
   "outputs": [],
   "source": [
    "notebook_dev = False\n",
    "# readability\n",
    "poe_bot_class = Poe2Bot\n",
    "poe_bot: poe_bot_class"
   ]
  },
  {
   "cell_type": "code",
   "execution_count": null,
   "metadata": {},
   "outputs": [],
   "source": [
    "default_config = {\n",
    "  \"REMOTE_IP\": '172.23.107.65', # z2\n",
    "  \"unique_id\": \"poe_2_test\",\n",
    "  \"password\": None,\n",
    "  \"force_reset_temp\": False,\n",
    "}\n",
    "\n",
    "\n",
    "\n",
    "try:\n",
    "  i = sys.argv[1]\n",
    "  print(i)\n",
    "  parsed_config = literal_eval(i)\n",
    "  print(f'successfully parsed cli config')\n",
    "  print(f'parsed_config: {parsed_config}')\n",
    "except:\n",
    "  print(f'cannot parse config from cli, using default\\dev one')\n",
    "  notebook_dev = True\n",
    "  parsed_config = default_config\n",
    "  parsed_config['unique_id'] = poe_bot_class.getDevKey()\n",
    "\n",
    "config = {\n",
    "\n",
    "}\n",
    "\n",
    "for key in default_config.keys():\n",
    "  config[key] = parsed_config.get(key, default_config[key])\n",
    "\n",
    "print(f'config to run {config}')"
   ]
  },
  {
   "cell_type": "code",
   "execution_count": null,
   "metadata": {},
   "outputs": [],
   "source": [
    "REMOTE_IP = config['REMOTE_IP'] # REMOTE_IP\n",
    "UNIQUE_ID = config['unique_id'] # unique id\n",
    "password = config['password']\n",
    "force_reset_temp = config['force_reset_temp']\n",
    "print(f'running follower using: REMOTE_IP: {REMOTE_IP} unique_id: {UNIQUE_ID} force_reset_temp: {force_reset_temp}')"
   ]
  },
  {
   "cell_type": "code",
   "execution_count": null,
   "metadata": {},
   "outputs": [],
   "source": [
    "poe_bot = Poe2Bot(unique_id = UNIQUE_ID, remote_ip = REMOTE_IP, password=password)\n",
    "poe_bot.refreshAll()\n",
    "poe_bot.game_data.terrain.getCurrentlyPassableArea()\n",
    "\n",
    "auto_flasks = AutoFlasks(poe_bot)\n",
    "\n"
   ]
  },
  {
   "cell_type": "code",
   "execution_count": 6,
   "metadata": {},
   "outputs": [],
   "source": [
    "# settings\n",
    "poe_bot.mover.setMoveType('wasd')\n",
    "\n",
    "refresh_area_frequency = 10\n",
    "min_distance_to_follow = 20\n",
    "\n",
    "# entity_to_follow_ign = \"Skobayashi\"\n",
    "entity_to_follow_ign = None\n",
    "\n",
    "auto_flasks.life_flask_recovers_es = True\n",
    "auto_flasks.hp_thresh = 0.75\n"
   ]
  },
  {
   "cell_type": "code",
   "execution_count": 7,
   "metadata": {},
   "outputs": [],
   "source": [
    "# "
   ]
  },
  {
   "cell_type": "code",
   "execution_count": null,
   "metadata": {},
   "outputs": [],
   "source": [
    "entity_to_follow:Entity = None\n",
    "id_to_follow:int = None\n",
    "_i = 0\n",
    "while True:\n",
    "  ign_to_follow:str = None\n",
    "  party_raw:dict = None\n",
    "\n",
    "  _i += 1\n",
    "  if _i == refresh_area_frequency:\n",
    "    poe_bot.refreshAll()\n",
    "    poe_bot.game_data.terrain.getCurrentlyPassableArea()\n",
    "    _i = 0\n",
    "  else:\n",
    "    poe_bot.refreshInstanceData()\n",
    "  if poe_bot.game_data.area_raw_name[:7] != \"Hideout\":\n",
    "    auto_flasks.useFlasks()\n",
    "\n",
    "\n",
    "  \n",
    "\n",
    "  # if there is a ign in settings, find by ign\n",
    "  if entity_to_follow_ign != None:\n",
    "    ign_to_follow = entity_to_follow_ign\n",
    "  else:\n",
    "    party_raw = poe_bot.backend.getPartyInfo()\n",
    "    party_leader = next( (pm for pm in party_raw['party_members'] if pm[\"is_leader\"] == True), None)\n",
    "    if party_leader:\n",
    "      ign_to_follow = party_leader['ign']\n",
    "  if ign_to_follow == None:\n",
    "    print(f'couldnt find either party leader or entity_to_follow_ign: <{entity_to_follow_ign}> in party')\n",
    "    continue\n",
    "\n",
    "\n",
    "  id_to_follow = poe_bot.backend.doRequest(f'{poe_bot.backend.endpoint}/getEntityIdByPlayerName?type={ign_to_follow}&')\n",
    "  # check if party member to follow in diff loc and portal to that loc is somewhere around\n",
    "  if id_to_follow == None:\n",
    "    if party_raw == None:\n",
    "      party_raw = poe_bot.backend.getPartyInfo()\n",
    "    party_member_to_follow = next( (pm for pm in party_raw['party_members'] if pm[\"ign\"] == ign_to_follow), None)\n",
    "    if party_member_to_follow == None:\n",
    "      print(f'{ign_to_follow} is not in party')\n",
    "      continue\n",
    "    member_to_follow_loc = party_member_to_follow['area_raw_name']\n",
    "    portals_with_similar_area_name = next( (e for e in poe_bot.game_data.entities.town_portals if e.render_name == member_to_follow_loc), None)\n",
    "    if portals_with_similar_area_name:\n",
    "      poe_bot.mover.goToEntitysPoint(portals_with_similar_area_name, release_mouse_on_end=True)\n",
    "      poe_bot.helper_functions.getToPortal(check_for_map_device=False)\n",
    "    \n",
    "  prev_entity_to_follow = entity_to_follow\n",
    "  entity_to_follow = next( (e for e in poe_bot.game_data.entities.all_entities if e.id == id_to_follow), None)\n",
    "    # else: get party, get leader, get leader ign\n",
    "\n",
    "  if entity_to_follow:\n",
    "    if entity_to_follow.distance_to_player > min_distance_to_follow:\n",
    "      if entity_to_follow.isInRoi() and entity_to_follow.isInLineOfSight():\n",
    "        poe_bot.mover.move(*entity_to_follow.grid_position.toList())\n",
    "      else:\n",
    "        poe_bot.mover.goToEntity(entity_to_follow, min_distance=min_distance_to_follow)\n",
    "    else:\n",
    "      poe_bot.mover.stopMoving()\n",
    "\n",
    "    \n",
    "  "
   ]
  },
  {
   "cell_type": "code",
   "execution_count": null,
   "metadata": {},
   "outputs": [],
   "source": [
    "raise 404"
   ]
  }
 ],
 "metadata": {
  "kernelspec": {
   "display_name": "Python 3",
   "language": "python",
   "name": "python3"
  },
  "language_info": {
   "codemirror_mode": {
    "name": "ipython",
    "version": 3
   },
   "file_extension": ".py",
   "mimetype": "text/x-python",
   "name": "python",
   "nbconvert_exporter": "python",
   "pygments_lexer": "ipython3",
   "version": "3.8.10"
  },
  "orig_nbformat": 4,
  "vscode": {
   "interpreter": {
    "hash": "9a77788ff6b86baaa40baa2ee0d4965d2ef3f4c5f9e8f753fc08e7b362f3103b"
   }
  }
 },
 "nbformat": 4,
 "nbformat_minor": 2
}
